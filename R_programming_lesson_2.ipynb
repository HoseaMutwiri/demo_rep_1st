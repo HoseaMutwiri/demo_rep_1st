{
  "nbformat": 4,
  "nbformat_minor": 0,
  "metadata": {
    "colab": {
      "name": "R programming lesson 2",
      "provenance": [],
      "collapsed_sections": [],
      "authorship_tag": "ABX9TyMPj8EXIFG3OaWpr1bwVUjg",
      "include_colab_link": true
    },
    "kernelspec": {
      "name": "ir",
      "display_name": "R"
    },
    "language_info": {
      "name": "R"
    }
  },
  "cells": [
    {
      "cell_type": "markdown",
      "metadata": {
        "id": "view-in-github",
        "colab_type": "text"
      },
      "source": [
        "<a href=\"https://colab.research.google.com/github/HoseaMutwiri/demo_rep_1st/blob/main/R_programming_lesson_2.ipynb\" target=\"_parent\"><img src=\"https://colab.research.google.com/assets/colab-badge.svg\" alt=\"Open In Colab\"/></a>"
      ]
    },
    {
      "cell_type": "markdown",
      "source": [
        "# **controlled flow and functions**\n",
        "by:*kinyua hosea mutwiri*\n",
        "\n",
        "email:*hoseamutwirikinyua@gmail.com*"
      ],
      "metadata": {
        "id": "V-2Jf6dxN612"
      }
    },
    {
      "cell_type": "code",
      "execution_count": null,
      "metadata": {
        "colab": {
          "base_uri": "https://localhost:8080/",
          "height": 34
        },
        "id": "1_4k4ivQLrW8",
        "outputId": "97723b90-9b17-490a-b375-b06fe32348fc"
      },
      "outputs": [
        {
          "output_type": "display_data",
          "data": {
            "text/html": [
              "'R version 4.2.0 (2022-04-22)'"
            ],
            "text/markdown": "'R version 4.2.0 (2022-04-22)'",
            "text/latex": "'R version 4.2.0 (2022-04-22)'",
            "text/plain": [
              "[1] \"R version 4.2.0 (2022-04-22)\""
            ]
          },
          "metadata": {}
        }
      ],
      "source": [
        "version$version.string"
      ]
    },
    {
      "cell_type": "markdown",
      "source": [
        "# relation operators\n",
        "\n",
        "---\n",
        "\n",
        "\n",
        "## equality\n",
        "\n",
        "\n",
        "---\n",
        "Relational Operators\n",
        "Relational Operators help compare two data structures or elements of such together.\n",
        "Relational Operators are Equality (==), Inequality (!=), Greater Than (>), and Less Than (<).\n",
        "Relational Operators also work on vectors and matrices on element-by-element basis.\n",
        "Logical Operators\n",
        "Logical Operators are AND expressed in R as (&), OR expressed in R as (|), and NOT expressed in R as (!).\n",
        "Logical Operators are used to evaluate statements that have logical conditions.\n",
        "Conditional Statements\n",
        "IF statement executes the code based on a specific condition.\n",
        "ELSE statement is used in combination with an IF statement where no additional condition is required.\n",
        "ELSE IF is used to add more specific conditions to the IF statement.\n",
        "\n"
      ],
      "metadata": {
        "id": "PD-KdyQoPKG8"
      }
    },
    {
      "cell_type": "code",
      "source": [
        "2==(1+1)\n",
        "2!=3"
      ],
      "metadata": {
        "colab": {
          "base_uri": "https://localhost:8080/",
          "height": 52
        },
        "id": "FJvFJ-XROO0W",
        "outputId": "8907e12a-992f-4492-e0db-d8c3a9abbc3c"
      },
      "execution_count": null,
      "outputs": [
        {
          "output_type": "display_data",
          "data": {
            "text/html": [
              "TRUE"
            ],
            "text/markdown": "TRUE",
            "text/latex": "TRUE",
            "text/plain": [
              "[1] TRUE"
            ]
          },
          "metadata": {}
        },
        {
          "output_type": "display_data",
          "data": {
            "text/html": [
              "TRUE"
            ],
            "text/markdown": "TRUE",
            "text/latex": "TRUE",
            "text/plain": [
              "[1] TRUE"
            ]
          },
          "metadata": {}
        }
      ]
    },
    {
      "cell_type": "markdown",
      "source": [
        "## less and greater than"
      ],
      "metadata": {
        "id": "fDXsbgB4P6yd"
      }
    },
    {
      "cell_type": "code",
      "source": [
        "3+2<2\n",
        "3>2+4\n",
        "TRUE>FALSE #comparison of logicals\n",
        "\"Ring\"!=\"ring\""
      ],
      "metadata": {
        "colab": {
          "base_uri": "https://localhost:8080/",
          "height": 86
        },
        "id": "MQKUtkhWQEdE",
        "outputId": "8a23aa0f-38fb-41b5-86ec-1a391505509c"
      },
      "execution_count": null,
      "outputs": [
        {
          "output_type": "display_data",
          "data": {
            "text/html": [
              "FALSE"
            ],
            "text/markdown": "FALSE",
            "text/latex": "FALSE",
            "text/plain": [
              "[1] FALSE"
            ]
          },
          "metadata": {}
        },
        {
          "output_type": "display_data",
          "data": {
            "text/html": [
              "FALSE"
            ],
            "text/markdown": "FALSE",
            "text/latex": "FALSE",
            "text/plain": [
              "[1] FALSE"
            ]
          },
          "metadata": {}
        },
        {
          "output_type": "display_data",
          "data": {
            "text/html": [
              "TRUE"
            ],
            "text/markdown": "TRUE",
            "text/latex": "TRUE",
            "text/plain": [
              "[1] TRUE"
            ]
          },
          "metadata": {}
        },
        {
          "output_type": "display_data",
          "data": {
            "text/html": [
              "TRUE"
            ],
            "text/markdown": "TRUE",
            "text/latex": "TRUE",
            "text/plain": [
              "[1] TRUE"
            ]
          },
          "metadata": {}
        }
      ]
    },
    {
      "cell_type": "markdown",
      "source": [
        "## comparison of vectors"
      ],
      "metadata": {
        "id": "9r0ccc2qQ3Ia"
      }
    },
    {
      "cell_type": "code",
      "source": [
        "linkedin<-c(16,9,13,5,2,17,14,15)\n",
        "facebook<-c(17,2,3,12,24,23,23,12)\n",
        "linkedin>9\n",
        "a<-facebook<linkedin\n",
        "a\n",
        "a[-FALSE]"
      ],
      "metadata": {
        "colab": {
          "base_uri": "https://localhost:8080/",
          "height": 52
        },
        "id": "08G5orm9RA29",
        "outputId": "49222c94-d7cc-43c6-e8fa-8557a57ec988"
      },
      "execution_count": null,
      "outputs": [
        {
          "output_type": "display_data",
          "data": {
            "text/html": [
              "<style>\n",
              ".list-inline {list-style: none; margin:0; padding: 0}\n",
              ".list-inline>li {display: inline-block}\n",
              ".list-inline>li:not(:last-child)::after {content: \"\\00b7\"; padding: 0 .5ex}\n",
              "</style>\n",
              "<ol class=list-inline><li>TRUE</li><li>FALSE</li><li>TRUE</li><li>FALSE</li><li>FALSE</li><li>TRUE</li><li>TRUE</li><li>TRUE</li></ol>\n"
            ],
            "text/markdown": "1. TRUE\n2. FALSE\n3. TRUE\n4. FALSE\n5. FALSE\n6. TRUE\n7. TRUE\n8. TRUE\n\n\n",
            "text/latex": "\\begin{enumerate*}\n\\item TRUE\n\\item FALSE\n\\item TRUE\n\\item FALSE\n\\item FALSE\n\\item TRUE\n\\item TRUE\n\\item TRUE\n\\end{enumerate*}\n",
            "text/plain": [
              "[1]  TRUE FALSE  TRUE FALSE FALSE  TRUE  TRUE  TRUE"
            ]
          },
          "metadata": {}
        },
        {
          "output_type": "display_data",
          "data": {
            "text/html": [
              "<style>\n",
              ".list-inline {list-style: none; margin:0; padding: 0}\n",
              ".list-inline>li {display: inline-block}\n",
              ".list-inline>li:not(:last-child)::after {content: \"\\00b7\"; padding: 0 .5ex}\n",
              "</style>\n",
              "<ol class=list-inline><li>FALSE</li><li>TRUE</li><li>TRUE</li><li>FALSE</li><li>FALSE</li><li>FALSE</li><li>FALSE</li><li>TRUE</li></ol>\n"
            ],
            "text/markdown": "1. FALSE\n2. TRUE\n3. TRUE\n4. FALSE\n5. FALSE\n6. FALSE\n7. FALSE\n8. TRUE\n\n\n",
            "text/latex": "\\begin{enumerate*}\n\\item FALSE\n\\item TRUE\n\\item TRUE\n\\item FALSE\n\\item FALSE\n\\item FALSE\n\\item FALSE\n\\item TRUE\n\\end{enumerate*}\n",
            "text/plain": [
              "[1] FALSE  TRUE  TRUE FALSE FALSE FALSE FALSE  TRUE"
            ]
          },
          "metadata": {}
        },
        {
          "output_type": "display_data",
          "data": {
            "text/html": [
              ""
            ],
            "text/markdown": "",
            "text/latex": "",
            "text/plain": [
              "logical(0)"
            ]
          },
          "metadata": {}
        }
      ]
    },
    {
      "cell_type": "markdown",
      "source": [
        "## comparing matrices"
      ],
      "metadata": {
        "id": "dITDICjuSN-G"
      }
    },
    {
      "cell_type": "code",
      "source": [
        "A<-matrix(linkedin,nrow =4 )\n",
        "B<-matrix(facebook,nrow=4)\n",
        "A<B"
      ],
      "metadata": {
        "colab": {
          "base_uri": "https://localhost:8080/",
          "height": 177
        },
        "id": "1K2t3NkISV_x",
        "outputId": "66ae47a2-8e79-4642-83fe-8047b8c44fdd"
      },
      "execution_count": null,
      "outputs": [
        {
          "output_type": "display_data",
          "data": {
            "text/html": [
              "<table class=\"dataframe\">\n",
              "<caption>A matrix: 4 × 2 of type lgl</caption>\n",
              "<tbody>\n",
              "\t<tr><td> TRUE</td><td> TRUE</td></tr>\n",
              "\t<tr><td>FALSE</td><td> TRUE</td></tr>\n",
              "\t<tr><td>FALSE</td><td> TRUE</td></tr>\n",
              "\t<tr><td> TRUE</td><td>FALSE</td></tr>\n",
              "</tbody>\n",
              "</table>\n"
            ],
            "text/markdown": "\nA matrix: 4 × 2 of type lgl\n\n|  TRUE |  TRUE |\n| FALSE |  TRUE |\n| FALSE |  TRUE |\n|  TRUE | FALSE |\n\n",
            "text/latex": "A matrix: 4 × 2 of type lgl\n\\begin{tabular}{ll}\n\t  TRUE &  TRUE\\\\\n\t FALSE &  TRUE\\\\\n\t FALSE &  TRUE\\\\\n\t  TRUE & FALSE\\\\\n\\end{tabular}\n",
            "text/plain": [
              "     [,1]  [,2] \n",
              "[1,]  TRUE  TRUE\n",
              "[2,] FALSE  TRUE\n",
              "[3,] FALSE  TRUE\n",
              "[4,]  TRUE FALSE"
            ]
          },
          "metadata": {}
        }
      ]
    },
    {
      "cell_type": "markdown",
      "source": [
        "# logical operators\n",
        "and=&\n",
        "or=|\n"
      ],
      "metadata": {
        "id": "zZLU8R6tVQUc"
      }
    },
    {
      "cell_type": "code",
      "source": [
        "FALSE|TRUE\n",
        "last<-tail(linkedin,1)\n",
        "last<5|last>10"
      ],
      "metadata": {
        "colab": {
          "base_uri": "https://localhost:8080/",
          "height": 52
        },
        "id": "BOBfOlPbUdaM",
        "outputId": "660923f7-3ac8-46f0-b7a4-77e508aa754d"
      },
      "execution_count": null,
      "outputs": [
        {
          "output_type": "display_data",
          "data": {
            "text/html": [
              "TRUE"
            ],
            "text/markdown": "TRUE",
            "text/latex": "TRUE",
            "text/plain": [
              "[1] TRUE"
            ]
          },
          "metadata": {}
        },
        {
          "output_type": "display_data",
          "data": {
            "text/html": [
              "TRUE"
            ],
            "text/markdown": "TRUE",
            "text/latex": "TRUE",
            "text/plain": [
              "[1] TRUE"
            ]
          },
          "metadata": {}
        }
      ]
    },
    {
      "cell_type": "markdown",
      "source": [
        "## logical operators vectors & matrices"
      ],
      "metadata": {
        "id": "ibv-KKLPVNYw"
      }
    },
    {
      "cell_type": "code",
      "source": [
        "cbind(A,B)\n",
        "A<12&B>12"
      ],
      "metadata": {
        "colab": {
          "base_uri": "https://localhost:8080/",
          "height": 337
        },
        "id": "pZHefuiZWqBX",
        "outputId": "2b8f9bd6-55d7-4c79-b922-d6a255b802a8"
      },
      "execution_count": null,
      "outputs": [
        {
          "output_type": "display_data",
          "data": {
            "text/html": [
              "<table class=\"dataframe\">\n",
              "<caption>A matrix: 4 × 4 of type dbl</caption>\n",
              "<tbody>\n",
              "\t<tr><td>16</td><td> 2</td><td>17</td><td>24</td></tr>\n",
              "\t<tr><td> 9</td><td>17</td><td> 2</td><td>23</td></tr>\n",
              "\t<tr><td>13</td><td>14</td><td> 3</td><td>23</td></tr>\n",
              "\t<tr><td> 5</td><td>15</td><td>12</td><td>12</td></tr>\n",
              "</tbody>\n",
              "</table>\n"
            ],
            "text/markdown": "\nA matrix: 4 × 4 of type dbl\n\n| 16 |  2 | 17 | 24 |\n|  9 | 17 |  2 | 23 |\n| 13 | 14 |  3 | 23 |\n|  5 | 15 | 12 | 12 |\n\n",
            "text/latex": "A matrix: 4 × 4 of type dbl\n\\begin{tabular}{llll}\n\t 16 &  2 & 17 & 24\\\\\n\t  9 & 17 &  2 & 23\\\\\n\t 13 & 14 &  3 & 23\\\\\n\t  5 & 15 & 12 & 12\\\\\n\\end{tabular}\n",
            "text/plain": [
              "     [,1] [,2] [,3] [,4]\n",
              "[1,] 16    2   17   24  \n",
              "[2,]  9   17    2   23  \n",
              "[3,] 13   14    3   23  \n",
              "[4,]  5   15   12   12  "
            ]
          },
          "metadata": {}
        },
        {
          "output_type": "display_data",
          "data": {
            "text/html": [
              "<table class=\"dataframe\">\n",
              "<caption>A matrix: 4 × 2 of type lgl</caption>\n",
              "<tbody>\n",
              "\t<tr><td>FALSE</td><td> TRUE</td></tr>\n",
              "\t<tr><td>FALSE</td><td>FALSE</td></tr>\n",
              "\t<tr><td>FALSE</td><td>FALSE</td></tr>\n",
              "\t<tr><td>FALSE</td><td>FALSE</td></tr>\n",
              "</tbody>\n",
              "</table>\n"
            ],
            "text/markdown": "\nA matrix: 4 × 2 of type lgl\n\n| FALSE |  TRUE |\n| FALSE | FALSE |\n| FALSE | FALSE |\n| FALSE | FALSE |\n\n",
            "text/latex": "A matrix: 4 × 2 of type lgl\n\\begin{tabular}{ll}\n\t FALSE &  TRUE\\\\\n\t FALSE & FALSE\\\\\n\t FALSE & FALSE\\\\\n\t FALSE & FALSE\\\\\n\\end{tabular}\n",
            "text/plain": [
              "     [,1]  [,2] \n",
              "[1,] FALSE  TRUE\n",
              "[2,] FALSE FALSE\n",
              "[3,] FALSE FALSE\n",
              "[4,] FALSE FALSE"
            ]
          },
          "metadata": {}
        }
      ]
    },
    {
      "cell_type": "markdown",
      "source": [
        "## reverse the result\n",
        "not=!"
      ],
      "metadata": {
        "id": "5Y20HgMnTNcz"
      }
    },
    {
      "cell_type": "code",
      "source": [
        "4>!2\n",
        "F&T"
      ],
      "metadata": {
        "colab": {
          "base_uri": "https://localhost:8080/",
          "height": 52
        },
        "id": "7msnHfdPYgZe",
        "outputId": "d5afdac2-37b3-45f2-86b1-baec49e76383"
      },
      "execution_count": null,
      "outputs": [
        {
          "output_type": "display_data",
          "data": {
            "text/html": [
              "TRUE"
            ],
            "text/markdown": "TRUE",
            "text/latex": "TRUE",
            "text/plain": [
              "[1] TRUE"
            ]
          },
          "metadata": {}
        },
        {
          "output_type": "display_data",
          "data": {
            "text/html": [
              "FALSE"
            ],
            "text/markdown": "FALSE",
            "text/latex": "FALSE",
            "text/plain": [
              "[1] FALSE"
            ]
          },
          "metadata": {}
        }
      ]
    },
    {
      "cell_type": "markdown",
      "source": [
        "## relational and logical operators together"
      ],
      "metadata": {
        "id": "fwN40QO8QZ8Q"
      }
    },
    {
      "cell_type": "code",
      "source": [
        "d<-matrix(1:28,nrow=4)\n",
        "rownames(d)<-c(\"employee1\",\"employee2\",\"employee3\",\"employee4\")\n",
        "d\n"
      ],
      "metadata": {
        "colab": {
          "base_uri": "https://localhost:8080/",
          "height": 160
        },
        "id": "EM42cr7KY_dP",
        "outputId": "9b4127a4-c73c-4e63-e3ad-d716969a4f45"
      },
      "execution_count": null,
      "outputs": [
        {
          "output_type": "display_data",
          "data": {
            "text/html": [
              "<table class=\"dataframe\">\n",
              "<caption>A matrix: 4 × 7 of type int</caption>\n",
              "<tbody>\n",
              "\t<tr><th scope=row>employee1</th><td>1</td><td>5</td><td> 9</td><td>13</td><td>17</td><td>21</td><td>25</td></tr>\n",
              "\t<tr><th scope=row>employee2</th><td>2</td><td>6</td><td>10</td><td>14</td><td>18</td><td>22</td><td>26</td></tr>\n",
              "\t<tr><th scope=row>employee3</th><td>3</td><td>7</td><td>11</td><td>15</td><td>19</td><td>23</td><td>27</td></tr>\n",
              "\t<tr><th scope=row>employee4</th><td>4</td><td>8</td><td>12</td><td>16</td><td>20</td><td>24</td><td>28</td></tr>\n",
              "</tbody>\n",
              "</table>\n"
            ],
            "text/markdown": "\nA matrix: 4 × 7 of type int\n\n| employee1 | 1 | 5 |  9 | 13 | 17 | 21 | 25 |\n| employee2 | 2 | 6 | 10 | 14 | 18 | 22 | 26 |\n| employee3 | 3 | 7 | 11 | 15 | 19 | 23 | 27 |\n| employee4 | 4 | 8 | 12 | 16 | 20 | 24 | 28 |\n\n",
            "text/latex": "A matrix: 4 × 7 of type int\n\\begin{tabular}{r|lllllll}\n\temployee1 & 1 & 5 &  9 & 13 & 17 & 21 & 25\\\\\n\temployee2 & 2 & 6 & 10 & 14 & 18 & 22 & 26\\\\\n\temployee3 & 3 & 7 & 11 & 15 & 19 & 23 & 27\\\\\n\temployee4 & 4 & 8 & 12 & 16 & 20 & 24 & 28\\\\\n\\end{tabular}\n",
            "text/plain": [
              "          [,1] [,2] [,3] [,4] [,5] [,6] [,7]\n",
              "employee1 1    5     9   13   17   21   25  \n",
              "employee2 2    6    10   14   18   22   26  \n",
              "employee3 3    7    11   15   19   23   27  \n",
              "employee4 4    8    12   16   20   24   28  "
            ]
          },
          "metadata": {}
        }
      ]
    },
    {
      "cell_type": "code",
      "source": [
        "x<-4\n",
        "y<-6\n",
        "!(!(x<4)&!!(y>12))"
      ],
      "metadata": {
        "colab": {
          "base_uri": "https://localhost:8080/",
          "height": 34
        },
        "id": "RLRfNRwOdXQQ",
        "outputId": "c0f71677-c2ac-4403-901c-2e8209d1ec4e"
      },
      "execution_count": null,
      "outputs": [
        {
          "output_type": "display_data",
          "data": {
            "text/html": [
              "TRUE"
            ],
            "text/markdown": "TRUE",
            "text/latex": "TRUE",
            "text/plain": [
              "[1] TRUE"
            ]
          },
          "metadata": {}
        }
      ]
    },
    {
      "cell_type": "markdown",
      "source": [
        "# conditional statement.\n",
        "## IF.\n",
        "It executes the code based on specific condition(s)\n",
        "syntax\n",
        "*if(condition){exp}*"
      ],
      "metadata": {
        "id": "sprVvUUgPhMe"
      }
    },
    {
      "cell_type": "markdown",
      "source": [
        "## if else"
      ],
      "metadata": {
        "id": "pYXGc_6TwoID"
      }
    },
    {
      "cell_type": "code",
      "source": [
        "passmark=40\n",
        "if(passmark ==20){print(\"fail\")} else\n",
        " if(passmark==40){print(\"good\")}else if (passmark ==70){print(\"verygood\")}"
      ],
      "metadata": {
        "colab": {
          "base_uri": "https://localhost:8080/"
        },
        "id": "d7VQSLWwj2iZ",
        "outputId": "df297d64-7cad-40ae-b908-4d8bd7678ba6"
      },
      "execution_count": null,
      "outputs": [
        {
          "output_type": "stream",
          "name": "stdout",
          "text": [
            "[1] \"good\"\n"
          ]
        }
      ]
    },
    {
      "cell_type": "markdown",
      "source": [
        "## else if"
      ],
      "metadata": {
        "id": "7Y9Ax4JawzNb"
      }
    },
    {
      "cell_type": "code",
      "source": [
        "temperature=11\n",
        "if(temperature>25){print(\"Hot\")}else \n",
        "if (temperature<=25&temperature>12)\n",
        "{print(\"cool\")}else{print(\"cold\")}"
      ],
      "metadata": {
        "colab": {
          "base_uri": "https://localhost:8080/"
        },
        "id": "L3mV9kOrlcWT",
        "outputId": "e73312db-8d90-445d-e454-cbcaa01674c2"
      },
      "execution_count": null,
      "outputs": [
        {
          "output_type": "stream",
          "name": "stdout",
          "text": [
            "[1] \"cold\"\n"
          ]
        }
      ]
    },
    {
      "cell_type": "markdown",
      "source": [
        "# loops\n",
        "## while loops\n",
        "syntax\n",
        "while(codition){expr}\n",
        "\n",
        "\n",
        "---\n",
        "Loops\n",
        "A Loop in R allows code to run until stopped or until a condition is met.\n",
        "While Loop and For Loop are two common loop types in R.\n",
        "IF statements can be nested inside a Loop to add more conditions to the Loop.\n",
        "Next and Break statements control loop behavior in terms of skipping current iteration or exiting the entire loop.\n",
        "Functions\n",
        "A Function is an object that receives one or more inputs, Arguments, processes them to produce an output.\n",
        "Arguments of a Function are either optional or required, and they can be matched by position or by name.\n",
        "User-defined functions are created to solve problems that are not handled by R standard functions.\n",
        "Variables defined inside a function are not accessible outside that function (Function Scoping).\n"
      ],
      "metadata": {
        "id": "I23PPGs8nsYu"
      }
    },
    {
      "cell_type": "code",
      "source": [
        "speed=70\n",
        "while(speed>30){print(\"slow down i can't hold on any longer!!!\")\n",
        "speed<-speed-6}"
      ],
      "metadata": {
        "colab": {
          "base_uri": "https://localhost:8080/"
        },
        "id": "g3vkcRbRnfh9",
        "outputId": "c5d0c0d0-3ca1-42b6-d4e9-6f75b8d8d184"
      },
      "execution_count": null,
      "outputs": [
        {
          "output_type": "stream",
          "name": "stdout",
          "text": [
            "[1] \"slow down i can't hold on any longer!!!\"\n",
            "[1] \"slow down i can't hold on any longer!!!\"\n",
            "[1] \"slow down i can't hold on any longer!!!\"\n",
            "[1] \"slow down i can't hold on any longer!!!\"\n",
            "[1] \"slow down i can't hold on any longer!!!\"\n",
            "[1] \"slow down i can't hold on any longer!!!\"\n",
            "[1] \"slow down i can't hold on any longer!!!\"\n"
          ]
        }
      ]
    },
    {
      "cell_type": "markdown",
      "source": [
        "\n",
        "## looping with more condations"
      ],
      "metadata": {
        "id": "4hyfLk4xpyHn"
      }
    },
    {
      "cell_type": "code",
      "source": [
        "speed=70\n",
        "while(speed>30){print(paste(\"slow down\",speed))\n",
        "if(speed>48){print (\"slow down !!!\")\n",
        "speed<-speed-11}else\n",
        "{print(\"slow down !!!!\")\n",
        "speed<-speed-6}}"
      ],
      "metadata": {
        "colab": {
          "base_uri": "https://localhost:8080/"
        },
        "id": "gW9h15EPqDYy",
        "outputId": "898ab468-eb26-4ee9-8f61-5a2d9ed33600"
      },
      "execution_count": null,
      "outputs": [
        {
          "output_type": "stream",
          "name": "stdout",
          "text": [
            "[1] \"slow down 70\"\n",
            "[1] \"slow down !!!\"\n",
            "[1] \"slow down 59\"\n",
            "[1] \"slow down !!!\"\n",
            "[1] \"slow down 48\"\n",
            "[1] \"slow down !!!!\"\n",
            "[1] \"slow down 42\"\n",
            "[1] \"slow down !!!!\"\n",
            "[1] \"slow down 36\"\n",
            "[1] \"slow down !!!!\"\n"
          ]
        }
      ]
    },
    {
      "cell_type": "markdown",
      "source": [
        "### break the while loop\n",
        "syntax\n",
        "*if(codition){break}*"
      ],
      "metadata": {
        "id": "sowiqq_StLMV"
      }
    },
    {
      "cell_type": "code",
      "source": [
        "i=1\n",
        "while(i<=10){if((3*i)%%8==0){print(3*i)\n",
        "break}\n",
        "print(3*i)\n",
        "i<-i+1}"
      ],
      "metadata": {
        "colab": {
          "base_uri": "https://localhost:8080/"
        },
        "id": "P1f62yKvtXK6",
        "outputId": "7a779061-6de9-4574-c435-a62ce5b91289"
      },
      "execution_count": null,
      "outputs": [
        {
          "output_type": "stream",
          "name": "stdout",
          "text": [
            "[1] 3\n",
            "[1] 6\n",
            "[1] 9\n",
            "[1] 12\n",
            "[1] 15\n",
            "[1] 18\n",
            "[1] 21\n",
            "[1] 24\n"
          ]
        }
      ]
    },
    {
      "cell_type": "markdown",
      "source": [
        "## For loop\n",
        "syntax\n",
        "*for(var in seq){expr}*"
      ],
      "metadata": {
        "id": "bzEnkn4iy8eN"
      }
    },
    {
      "cell_type": "code",
      "source": [
        "cities<-c(\"nairobi\",\"kisumu\",\"meru\",\"chuka\",\"mombasa\")\n",
        "for(n in cities){print(n)}"
      ],
      "metadata": {
        "colab": {
          "base_uri": "https://localhost:8080/"
        },
        "id": "VCBSrMD1zfXV",
        "outputId": "dfd78eea-45a3-4405-a300-3bc8d98ece2b"
      },
      "execution_count": null,
      "outputs": [
        {
          "output_type": "stream",
          "name": "stdout",
          "text": [
            "[1] \"nairobi\"\n",
            "[1] \"kisumu\"\n",
            "[1] \"meru\"\n",
            "[1] \"chuka\"\n",
            "[1] \"mombasa\"\n"
          ]
        }
      ]
    },
    {
      "cell_type": "markdown",
      "source": [
        "## loop over a vector"
      ],
      "metadata": {
        "id": "6iRE7oao0H8R"
      }
    },
    {
      "cell_type": "code",
      "source": [
        "linkedin\n",
        "for(views in 1:length(linkedin)){print(views)}"
      ],
      "metadata": {
        "colab": {
          "base_uri": "https://localhost:8080/",
          "height": 173
        },
        "id": "KVdTsN4P0R-D",
        "outputId": "ee604294-6a83-4b8f-9186-d097cfc19f09"
      },
      "execution_count": null,
      "outputs": [
        {
          "output_type": "display_data",
          "data": {
            "text/html": [
              "<style>\n",
              ".list-inline {list-style: none; margin:0; padding: 0}\n",
              ".list-inline>li {display: inline-block}\n",
              ".list-inline>li:not(:last-child)::after {content: \"\\00b7\"; padding: 0 .5ex}\n",
              "</style>\n",
              "<ol class=list-inline><li>16</li><li>9</li><li>13</li><li>5</li><li>2</li><li>17</li><li>14</li><li>15</li></ol>\n"
            ],
            "text/markdown": "1. 16\n2. 9\n3. 13\n4. 5\n5. 2\n6. 17\n7. 14\n8. 15\n\n\n",
            "text/latex": "\\begin{enumerate*}\n\\item 16\n\\item 9\n\\item 13\n\\item 5\n\\item 2\n\\item 17\n\\item 14\n\\item 15\n\\end{enumerate*}\n",
            "text/plain": [
              "[1] 16  9 13  5  2 17 14 15"
            ]
          },
          "metadata": {}
        },
        {
          "output_type": "stream",
          "name": "stdout",
          "text": [
            "[1] 1\n",
            "[1] 2\n",
            "[1] 3\n",
            "[1] 4\n",
            "[1] 5\n",
            "[1] 6\n",
            "[1] 7\n",
            "[1] 8\n"
          ]
        }
      ]
    },
    {
      "cell_type": "markdown",
      "source": [
        "## loop over list"
      ],
      "metadata": {
        "id": "HYN4riCq1LbS"
      }
    },
    {
      "cell_type": "code",
      "source": [
        "k<-list(song=c(\"gospel\",\"reggea\"),likes=c(300,200))\n",
        "names(k)=c(\"music\",\"likes\")\n",
        "k\n",
        "for(i in k){print(i)}"
      ],
      "metadata": {
        "colab": {
          "base_uri": "https://localhost:8080/",
          "height": 149
        },
        "id": "StQRPYyX1T_3",
        "outputId": "9ae57378-3ac0-454d-8d8d-c3006682a5ea"
      },
      "execution_count": null,
      "outputs": [
        {
          "output_type": "display_data",
          "data": {
            "text/html": [
              "<dl>\n",
              "\t<dt>$music</dt>\n",
              "\t\t<dd><style>\n",
              ".list-inline {list-style: none; margin:0; padding: 0}\n",
              ".list-inline>li {display: inline-block}\n",
              ".list-inline>li:not(:last-child)::after {content: \"\\00b7\"; padding: 0 .5ex}\n",
              "</style>\n",
              "<ol class=list-inline><li>'gospel'</li><li>'reggea'</li></ol>\n",
              "</dd>\n",
              "\t<dt>$likes</dt>\n",
              "\t\t<dd><style>\n",
              ".list-inline {list-style: none; margin:0; padding: 0}\n",
              ".list-inline>li {display: inline-block}\n",
              ".list-inline>li:not(:last-child)::after {content: \"\\00b7\"; padding: 0 .5ex}\n",
              "</style>\n",
              "<ol class=list-inline><li>300</li><li>200</li></ol>\n",
              "</dd>\n",
              "</dl>\n"
            ],
            "text/markdown": "$music\n:   1. 'gospel'\n2. 'reggea'\n\n\n\n$likes\n:   1. 300\n2. 200\n\n\n\n\n\n",
            "text/latex": "\\begin{description}\n\\item[\\$music] \\begin{enumerate*}\n\\item 'gospel'\n\\item 'reggea'\n\\end{enumerate*}\n\n\\item[\\$likes] \\begin{enumerate*}\n\\item 300\n\\item 200\n\\end{enumerate*}\n\n\\end{description}\n",
            "text/plain": [
              "$music\n",
              "[1] \"gospel\" \"reggea\"\n",
              "\n",
              "$likes\n",
              "[1] 300 200\n"
            ]
          },
          "metadata": {}
        },
        {
          "output_type": "stream",
          "name": "stdout",
          "text": [
            "[1] \"gospel\" \"reggea\"\n",
            "[1] 300 200\n"
          ]
        }
      ]
    },
    {
      "cell_type": "markdown",
      "source": [
        "## loop over a matrix\n",
        "here we need nested loop\n",
        "syntax\n",
        "\n",
        "for(var1 in seq1){\n",
        "  for(var2 in seq2){expr}} "
      ],
      "metadata": {
        "id": "ZcxbWQJk2aDW"
      }
    },
    {
      "cell_type": "code",
      "source": [
        "rank<-matrix(1:9,byrow = T,nrow=3)\n",
        "for(i in 1:nrow(rank)){\n",
        "  for(j in 1:ncol(rank)){\n",
        "    print(paste(\"on row i and column j we have:\",rank[i,j]))\n",
        "  }\n",
        "}"
      ],
      "metadata": {
        "colab": {
          "base_uri": "https://localhost:8080/"
        },
        "id": "5QYchzP33X9n",
        "outputId": "e0fd53ea-f947-42f8-e5e5-c6c0843cb6f2"
      },
      "execution_count": null,
      "outputs": [
        {
          "output_type": "stream",
          "name": "stdout",
          "text": [
            "[1] \"on row i and column j we have: 1\"\n",
            "[1] \"on row i and column j we have: 2\"\n",
            "[1] \"on row i and column j we have: 3\"\n",
            "[1] \"on row i and column j we have: 4\"\n",
            "[1] \"on row i and column j we have: 5\"\n",
            "[1] \"on row i and column j we have: 6\"\n",
            "[1] \"on row i and column j we have: 7\"\n",
            "[1] \"on row i and column j we have: 8\"\n",
            "[1] \"on row i and column j we have: 9\"\n"
          ]
        }
      ]
    },
    {
      "cell_type": "markdown",
      "source": [
        "## for loop with conditionals"
      ],
      "metadata": {
        "id": "jY1ZN7dW5vg3"
      }
    },
    {
      "cell_type": "code",
      "source": [
        "likes<-c(12,5,2,4,6,23,27)\n",
        "for(i in likes){if(i>=10)\n",
        "print(\"you are popular\")\n",
        "  if (i>5){print(\"you are not popular my friend\")}}"
      ],
      "metadata": {
        "colab": {
          "base_uri": "https://localhost:8080/"
        },
        "id": "UC-TBt9n5-VA",
        "outputId": "6673b0ff-fd1a-4803-f18b-6d0762195ae9"
      },
      "execution_count": null,
      "outputs": [
        {
          "output_type": "stream",
          "name": "stdout",
          "text": [
            "[1] \"you are popular\"\n",
            "[1] \"you are not popular my friend\"\n",
            "[1] \"you are not popular my friend\"\n",
            "[1] \"you are popular\"\n",
            "[1] \"you are not popular my friend\"\n",
            "[1] \"you are popular\"\n",
            "[1] \"you are not popular my friend\"\n"
          ]
        }
      ]
    },
    {
      "cell_type": "markdown",
      "source": [
        "## next and break with for loop\n",
        "break exits the loop:the remaining code is skipped\n",
        "\n",
        "\n",
        "next skips the remainder of the current iteration but continues to the next iteration"
      ],
      "metadata": {
        "id": "pqo4ky1I7nCN"
      }
    },
    {
      "cell_type": "code",
      "source": [
        "for (i in 1:length(likes)){if (likes[i]>20){\n",
        "  print(\"wrong entry!!\")\n",
        "  break\n",
        "}else if(likes[i]<3){print(\"not verified\")\n",
        "next}\n",
        "print(likes[i])\n",
        "print(\"verfied\")}"
      ],
      "metadata": {
        "colab": {
          "base_uri": "https://localhost:8080/"
        },
        "id": "hUz9bRJW8Ua2",
        "outputId": "53cc245d-eac9-4c6d-c245-dd5b5adebc58"
      },
      "execution_count": null,
      "outputs": [
        {
          "output_type": "stream",
          "name": "stdout",
          "text": [
            "[1] 12\n",
            "[1] \"verfied\"\n",
            "[1] 5\n",
            "[1] \"verfied\"\n",
            "[1] \"not verified\"\n",
            "[1] 4\n",
            "[1] \"verfied\"\n",
            "[1] 6\n",
            "[1] \"verfied\"\n",
            "[1] \"wrong entry!!\"\n"
          ]
        }
      ]
    },
    {
      "cell_type": "markdown",
      "source": [
        "# functions\n",
        "## agument matching"
      ],
      "metadata": {
        "id": "ih4deK_zExgP"
      }
    },
    {
      "cell_type": "code",
      "source": [
        "args(sd)\n",
        "likesMean<-mean(likes)\n",
        "likesMean"
      ],
      "metadata": {
        "colab": {
          "base_uri": "https://localhost:8080/",
          "height": 69
        },
        "id": "Wv4XC6uZFcXu",
        "outputId": "a5cdcc0b-e37f-41a2-a4dd-7a88d2d95954"
      },
      "execution_count": null,
      "outputs": [
        {
          "output_type": "display_data",
          "data": {
            "text/html": [
              "<pre class=language-r><code>function (x, na.rm = FALSE) \n",
              "NULL</code></pre>"
            ],
            "text/markdown": "```r\nfunction (x, na.rm = FALSE) \nNULL\n```",
            "text/latex": "\\begin{minted}{r}\nfunction (x, na.rm = FALSE) \nNULL\n\\end{minted}",
            "text/plain": [
              "function (x, na.rm = FALSE) \n",
              "NULL"
            ]
          },
          "metadata": {}
        },
        {
          "output_type": "display_data",
          "data": {
            "text/html": [
              "11.2857142857143"
            ],
            "text/markdown": "11.2857142857143",
            "text/latex": "11.2857142857143",
            "text/plain": [
              "[1] 11.28571"
            ]
          },
          "metadata": {}
        }
      ]
    },
    {
      "cell_type": "markdown",
      "source": [
        "### required and optional arguments"
      ],
      "metadata": {
        "id": "OsaXgkWfGzQt"
      }
    },
    {
      "cell_type": "code",
      "source": [
        "mean(likes) #likes is the required arguments"
      ],
      "metadata": {
        "colab": {
          "base_uri": "https://localhost:8080/",
          "height": 34
        },
        "id": "SNqBa4UdG_eE",
        "outputId": "95c646a0-9542-40a5-ebd4-b718a9664ec4"
      },
      "execution_count": null,
      "outputs": [
        {
          "output_type": "display_data",
          "data": {
            "text/html": [
              "11.2857142857143"
            ],
            "text/markdown": "11.2857142857143",
            "text/latex": "11.2857142857143",
            "text/plain": [
              "[1] 11.28571"
            ]
          },
          "metadata": {}
        }
      ]
    },
    {
      "cell_type": "code",
      "source": [
        "mean(likes,na.rm = T) #missing values are the optional arguments"
      ],
      "metadata": {
        "colab": {
          "base_uri": "https://localhost:8080/",
          "height": 34
        },
        "id": "Ape2Wx-5HQZy",
        "outputId": "2ab2d2e2-fe0f-434d-cd81-74fa91ed680a"
      },
      "execution_count": null,
      "outputs": [
        {
          "output_type": "display_data",
          "data": {
            "text/html": [
              "11.2857142857143"
            ],
            "text/markdown": "11.2857142857143",
            "text/latex": "11.2857142857143",
            "text/plain": [
              "[1] 11.28571"
            ]
          },
          "metadata": {}
        }
      ]
    },
    {
      "cell_type": "markdown",
      "source": [
        "## nested functions"
      ],
      "metadata": {
        "id": "F6TEr4U7H3l8"
      }
    },
    {
      "cell_type": "code",
      "source": [
        "speed=30\n",
        "print(paste(\"speed limit is\",speed))"
      ],
      "metadata": {
        "colab": {
          "base_uri": "https://localhost:8080/"
        },
        "id": "0I7Aiub5IDHd",
        "outputId": "a9aee9b6-7730-48fd-8c7f-976c38b005a0"
      },
      "execution_count": null,
      "outputs": [
        {
          "output_type": "stream",
          "name": "stdout",
          "text": [
            "[1] \"speed limit is 30\"\n"
          ]
        }
      ]
    },
    {
      "cell_type": "markdown",
      "source": [
        "## user difined functions"
      ],
      "metadata": {
        "id": "jpRhR8VGIZ7O"
      }
    },
    {
      "cell_type": "code",
      "source": [
        "num_cubed<-function(x){x^3}\n",
        "num_cubed(3)"
      ],
      "metadata": {
        "colab": {
          "base_uri": "https://localhost:8080/",
          "height": 34
        },
        "id": "e_ILGi4LIiSy",
        "outputId": "82f80a72-c9d0-44b3-b9bd-921065cebd1a"
      },
      "execution_count": null,
      "outputs": [
        {
          "output_type": "display_data",
          "data": {
            "text/html": [
              "27"
            ],
            "text/markdown": "27",
            "text/latex": "27",
            "text/plain": [
              "[1] 27"
            ]
          },
          "metadata": {}
        }
      ]
    },
    {
      "cell_type": "markdown",
      "source": [
        "function with no arguments"
      ],
      "metadata": {
        "id": "5hduFpKDJZxa"
      }
    },
    {
      "cell_type": "code",
      "source": [
        "hello=function(){print(\"hi there!\")\n",
        "T}\n",
        "hello()"
      ],
      "metadata": {
        "colab": {
          "base_uri": "https://localhost:8080/",
          "height": 52
        },
        "id": "bxiH5hU6Jg7p",
        "outputId": "ecb3042b-95c5-4a5b-ba81-8f51c31f5812"
      },
      "execution_count": null,
      "outputs": [
        {
          "output_type": "stream",
          "name": "stdout",
          "text": [
            "[1] \"hi there!\"\n"
          ]
        },
        {
          "output_type": "display_data",
          "data": {
            "text/html": [
              "TRUE"
            ],
            "text/markdown": "TRUE",
            "text/latex": "TRUE",
            "text/plain": [
              "[1] TRUE"
            ]
          },
          "metadata": {}
        }
      ]
    },
    {
      "cell_type": "markdown",
      "source": [
        "defining default arguments"
      ],
      "metadata": {
        "id": "77nwb3nEKYUe"
      }
    },
    {
      "cell_type": "code",
      "source": [
        "num_cubed<-function(x,print_info=F ){y=x^3\n",
        "if (print_info ==T){\n",
        "  print(paste(x,\"to the power three equals\",y))}\n",
        "  return (y)}\n",
        "  num_cubed(5)"
      ],
      "metadata": {
        "colab": {
          "base_uri": "https://localhost:8080/",
          "height": 34
        },
        "id": "VZrO6dI_Khjz",
        "outputId": "d52ef123-b3b7-44b7-e61f-70e29b89b8a9"
      },
      "execution_count": null,
      "outputs": [
        {
          "output_type": "display_data",
          "data": {
            "text/html": [
              "125"
            ],
            "text/markdown": "125",
            "text/latex": "125",
            "text/plain": [
              "[1] 125"
            ]
          },
          "metadata": {}
        }
      ]
    },
    {
      "cell_type": "markdown",
      "source": [
        "## r packages"
      ],
      "metadata": {
        "id": "10ZHITTIMV4R"
      }
    },
    {
      "cell_type": "code",
      "source": [
        "#cran comprehesive r achive network\n",
        "install.packages(\"ggplot2\")\n",
        "library(ggplot2)# or require()\n",
        "data(mtcars)"
      ],
      "metadata": {
        "colab": {
          "base_uri": "https://localhost:8080/"
        },
        "id": "5-Xo6k2hMoZB",
        "outputId": "1361bd9a-72bb-48c2-ecd1-a1019b130dc3"
      },
      "execution_count": null,
      "outputs": [
        {
          "output_type": "stream",
          "name": "stderr",
          "text": [
            "Installing package into ‘/usr/local/lib/R/site-library’\n",
            "(as ‘lib’ is unspecified)\n",
            "\n"
          ]
        }
      ]
    },
    {
      "cell_type": "code",
      "source": [
        "qplot(wt,hp,data=mtcars)"
      ],
      "metadata": {
        "colab": {
          "base_uri": "https://localhost:8080/",
          "height": 437
        },
        "id": "s4hXtIgjQzlg",
        "outputId": "fd4211a2-b811-4e9f-b9c0-a24d37e40499"
      },
      "execution_count": null,
      "outputs": [
        {
          "output_type": "display_data",
          "data": {
            "text/plain": [
              "plot without title"
            ],
            "image/png": "[encoded data removed]"
          },
          "metadata": {
            "image/png": {
              "width": 420,
              "height": 420
            }
          }
        }
      ]
    },
    {
      "cell_type": "code",
      "source": [
        "library(data.table)"
      ],
      "metadata": {
        "id": "rTO29XC6RQcV"
      },
      "execution_count": null,
      "outputs": []
    },
    {
      "cell_type": "markdown",
      "source": [
        "# apply family\n",
        "\n",
        "\n",
        "---\n",
        "apply Family\n",
        "Apply functions are a family of functions in base R which allow you to repetitively perform an action on multiple chunks of data. \n",
        "The following functions are the mostly used ones in the apply family:\n",
        "\n",
        "lapply(): acts as the for loop with less and more readable code.\n",
        "\n",
        "sapply: is similar to lapply, but it can be used to simplify the output in an array.\n",
        "\n",
        "vapply: is a more robust version of sapply as it explicitly restricts the output of the function you want to apply.\n",
        "\n",
        "\n",
        "---\n",
        "## lapply\n",
        "\n"
      ],
      "metadata": {
        "id": "db5xivgqS9vC"
      }
    },
    {
      "cell_type": "code",
      "source": [
        "pioneers=c(\"HOSEA:23\",\"JOSHUA:12\")\n",
        "split_math=strsplit(pioneers,\":\")\n",
        "split_list=lapply(split_math,tolower)\n",
        "split_math\n",
        "split_list\n"
      ],
      "metadata": {
        "colab": {
          "base_uri": "https://localhost:8080/",
          "height": 128
        },
        "id": "XCvu3bLDURkj",
        "outputId": "c05c1702-d521-41e9-af80-1b29a8b1754f"
      },
      "execution_count": null,
      "outputs": [
        {
          "output_type": "display_data",
          "data": {
            "text/html": [
              "<ol>\n",
              "\t<li><style>\n",
              ".list-inline {list-style: none; margin:0; padding: 0}\n",
              ".list-inline>li {display: inline-block}\n",
              ".list-inline>li:not(:last-child)::after {content: \"\\00b7\"; padding: 0 .5ex}\n",
              "</style>\n",
              "<ol class=list-inline><li>'HOSEA'</li><li>'23'</li></ol>\n",
              "</li>\n",
              "\t<li><style>\n",
              ".list-inline {list-style: none; margin:0; padding: 0}\n",
              ".list-inline>li {display: inline-block}\n",
              ".list-inline>li:not(:last-child)::after {content: \"\\00b7\"; padding: 0 .5ex}\n",
              "</style>\n",
              "<ol class=list-inline><li>'JOSHUA'</li><li>'12'</li></ol>\n",
              "</li>\n",
              "</ol>\n"
            ],
            "text/markdown": "1. 1. 'HOSEA'\n2. '23'\n\n\n\n2. 1. 'JOSHUA'\n2. '12'\n\n\n\n\n\n",
            "text/latex": "\\begin{enumerate}\n\\item \\begin{enumerate*}\n\\item 'HOSEA'\n\\item '23'\n\\end{enumerate*}\n\n\\item \\begin{enumerate*}\n\\item 'JOSHUA'\n\\item '12'\n\\end{enumerate*}\n\n\\end{enumerate}\n",
            "text/plain": [
              "[[1]]\n",
              "[1] \"HOSEA\" \"23\"   \n",
              "\n",
              "[[2]]\n",
              "[1] \"JOSHUA\" \"12\"    \n"
            ]
          },
          "metadata": {}
        },
        {
          "output_type": "display_data",
          "data": {
            "text/html": [
              "<ol>\n",
              "\t<li><style>\n",
              ".list-inline {list-style: none; margin:0; padding: 0}\n",
              ".list-inline>li {display: inline-block}\n",
              ".list-inline>li:not(:last-child)::after {content: \"\\00b7\"; padding: 0 .5ex}\n",
              "</style>\n",
              "<ol class=list-inline><li>'hosea'</li><li>'23'</li></ol>\n",
              "</li>\n",
              "\t<li><style>\n",
              ".list-inline {list-style: none; margin:0; padding: 0}\n",
              ".list-inline>li {display: inline-block}\n",
              ".list-inline>li:not(:last-child)::after {content: \"\\00b7\"; padding: 0 .5ex}\n",
              "</style>\n",
              "<ol class=list-inline><li>'joshua'</li><li>'12'</li></ol>\n",
              "</li>\n",
              "</ol>\n"
            ],
            "text/markdown": "1. 1. 'hosea'\n2. '23'\n\n\n\n2. 1. 'joshua'\n2. '12'\n\n\n\n\n\n",
            "text/latex": "\\begin{enumerate}\n\\item \\begin{enumerate*}\n\\item 'hosea'\n\\item '23'\n\\end{enumerate*}\n\n\\item \\begin{enumerate*}\n\\item 'joshua'\n\\item '12'\n\\end{enumerate*}\n\n\\end{enumerate}\n",
            "text/plain": [
              "[[1]]\n",
              "[1] \"hosea\" \"23\"   \n",
              "\n",
              "[[2]]\n",
              "[1] \"joshua\" \"12\"    \n"
            ]
          },
          "metadata": {}
        }
      ]
    },
    {
      "cell_type": "markdown",
      "source": [
        "lapply with user defined function"
      ],
      "metadata": {
        "id": "TEZnZQH8S-if"
      }
    },
    {
      "cell_type": "code",
      "source": [
        "num_cubed<-function(x){x^3}\n",
        "lapply(list(1,2,3),num_cubed)"
      ],
      "metadata": {
        "colab": {
          "base_uri": "https://localhost:8080/",
          "height": 97
        },
        "id": "ArTBXLuqWTK9",
        "outputId": "a69caf9b-cc4e-475b-8360-2518198882a1"
      },
      "execution_count": null,
      "outputs": [
        {
          "output_type": "display_data",
          "data": {
            "text/html": [
              "<ol>\n",
              "\t<li>1</li>\n",
              "\t<li>8</li>\n",
              "\t<li>27</li>\n",
              "</ol>\n"
            ],
            "text/markdown": "1. 1\n2. 8\n3. 27\n\n\n",
            "text/latex": "\\begin{enumerate}\n\\item 1\n\\item 8\n\\item 27\n\\end{enumerate}\n",
            "text/plain": [
              "[[1]]\n",
              "[1] 1\n",
              "\n",
              "[[2]]\n",
              "[1] 8\n",
              "\n",
              "[[3]]\n",
              "[1] 27\n"
            ]
          },
          "metadata": {}
        }
      ]
    },
    {
      "cell_type": "markdown",
      "source": [
        "lapply with additional argument"
      ],
      "metadata": {
        "id": "pDAmcXZmS9Ae"
      }
    },
    {
      "cell_type": "code",
      "source": [
        "mult=function(x,factor){x*factor}\n",
        "a=lapply(list(23,4,34),mult,factor=10)\n",
        "class(a)"
      ],
      "metadata": {
        "colab": {
          "base_uri": "https://localhost:8080/",
          "height": 34
        },
        "id": "JBLNoTfaXoP4",
        "outputId": "949678a2-b272-48dd-a050-f14eb1ad01f2"
      },
      "execution_count": null,
      "outputs": [
        {
          "output_type": "display_data",
          "data": {
            "text/html": [
              "'list'"
            ],
            "text/markdown": "'list'",
            "text/latex": "'list'",
            "text/plain": [
              "[1] \"list\""
            ]
          },
          "metadata": {}
        }
      ]
    },
    {
      "cell_type": "markdown",
      "source": [
        "## sapply"
      ],
      "metadata": {
        "id": "4h6RUGBwS7Bi"
      }
    },
    {
      "cell_type": "code",
      "source": [
        "nam=c(\"kevo\",\"mwenda\",\"deno\")\n",
        "toupper(nam)\n",
        "#lapply(nam, nchar,toupper)\n",
        "sapply(nam,nchar)"
      ],
      "metadata": {
        "colab": {
          "base_uri": "https://localhost:8080/",
          "height": 52
        },
        "id": "Jo8Xl3HmZRF5",
        "outputId": "4e2f7805-ab63-452c-aa3d-2ce27830703b"
      },
      "execution_count": null,
      "outputs": [
        {
          "output_type": "display_data",
          "data": {
            "text/html": [
              "<style>\n",
              ".list-inline {list-style: none; margin:0; padding: 0}\n",
              ".list-inline>li {display: inline-block}\n",
              ".list-inline>li:not(:last-child)::after {content: \"\\00b7\"; padding: 0 .5ex}\n",
              "</style>\n",
              "<ol class=list-inline><li>'KEVO'</li><li>'MWENDA'</li><li>'DENO'</li></ol>\n"
            ],
            "text/markdown": "1. 'KEVO'\n2. 'MWENDA'\n3. 'DENO'\n\n\n",
            "text/latex": "\\begin{enumerate*}\n\\item 'KEVO'\n\\item 'MWENDA'\n\\item 'DENO'\n\\end{enumerate*}\n",
            "text/plain": [
              "[1] \"KEVO\"   \"MWENDA\" \"DENO\"  "
            ]
          },
          "metadata": {}
        },
        {
          "output_type": "display_data",
          "data": {
            "text/html": [
              "<style>\n",
              ".dl-inline {width: auto; margin:0; padding: 0}\n",
              ".dl-inline>dt, .dl-inline>dd {float: none; width: auto; display: inline-block}\n",
              ".dl-inline>dt::after {content: \":\\0020\"; padding-right: .5ex}\n",
              ".dl-inline>dt:not(:first-of-type) {padding-left: .5ex}\n",
              "</style><dl class=dl-inline><dt>kevo</dt><dd>4</dd><dt>mwenda</dt><dd>6</dd><dt>deno</dt><dd>4</dd></dl>\n"
            ],
            "text/markdown": "kevo\n:   4mwenda\n:   6deno\n:   4\n\n",
            "text/latex": "\\begin{description*}\n\\item[kevo] 4\n\\item[mwenda] 6\n\\item[deno] 4\n\\end{description*}\n",
            "text/plain": [
              "  kevo mwenda   deno \n",
              "     4      6      4 "
            ]
          },
          "metadata": {}
        }
      ]
    },
    {
      "cell_type": "code",
      "source": [
        "temp<-list(c(23,24,36,45,23),c(27,34,23,12,24))\n",
        "lapply(temp,max)\n",
        "sapply(temp,min)"
      ],
      "metadata": {
        "colab": {
          "base_uri": "https://localhost:8080/",
          "height": 97
        },
        "id": "ZSvVR8xBa3az",
        "outputId": "55aaa1a5-65ae-404a-a59c-21d83f1b707e"
      },
      "execution_count": null,
      "outputs": [
        {
          "output_type": "display_data",
          "data": {
            "text/html": [
              "<ol>\n",
              "\t<li>45</li>\n",
              "\t<li>34</li>\n",
              "</ol>\n"
            ],
            "text/markdown": "1. 45\n2. 34\n\n\n",
            "text/latex": "\\begin{enumerate}\n\\item 45\n\\item 34\n\\end{enumerate}\n",
            "text/plain": [
              "[[1]]\n",
              "[1] 45\n",
              "\n",
              "[[2]]\n",
              "[1] 34\n"
            ]
          },
          "metadata": {}
        },
        {
          "output_type": "display_data",
          "data": {
            "text/html": [
              "<style>\n",
              ".list-inline {list-style: none; margin:0; padding: 0}\n",
              ".list-inline>li {display: inline-block}\n",
              ".list-inline>li:not(:last-child)::after {content: \"\\00b7\"; padding: 0 .5ex}\n",
              "</style>\n",
              "<ol class=list-inline><li>23</li><li>12</li></ol>\n"
            ],
            "text/markdown": "1. 23\n2. 12\n\n\n",
            "text/latex": "\\begin{enumerate*}\n\\item 23\n\\item 12\n\\end{enumerate*}\n",
            "text/plain": [
              "[1] 23 12"
            ]
          },
          "metadata": {}
        }
      ]
    },
    {
      "cell_type": "markdown",
      "source": [
        "### using sapply with your own function"
      ],
      "metadata": {
        "id": "D7KLU5sTS5Ja"
      }
    },
    {
      "cell_type": "code",
      "source": [
        "avg=function(x){y=x*10}\n",
        "sapply(temp,avg)\n",
        "lapply(temp,avg)"
      ],
      "metadata": {
        "colab": {
          "base_uri": "https://localhost:8080/",
          "height": 289
        },
        "id": "m1CgIhR9c5XG",
        "outputId": "06f0309d-d110-4eb2-b779-17661d1a9d70"
      },
      "execution_count": null,
      "outputs": [
        {
          "output_type": "display_data",
          "data": {
            "text/html": [
              "<table class=\"dataframe\">\n",
              "<caption>A matrix: 5 × 2 of type dbl</caption>\n",
              "<tbody>\n",
              "\t<tr><td>230</td><td>270</td></tr>\n",
              "\t<tr><td>240</td><td>340</td></tr>\n",
              "\t<tr><td>360</td><td>230</td></tr>\n",
              "\t<tr><td>450</td><td>120</td></tr>\n",
              "\t<tr><td>230</td><td>240</td></tr>\n",
              "</tbody>\n",
              "</table>\n"
            ],
            "text/markdown": "\nA matrix: 5 × 2 of type dbl\n\n| 230 | 270 |\n| 240 | 340 |\n| 360 | 230 |\n| 450 | 120 |\n| 230 | 240 |\n\n",
            "text/latex": "A matrix: 5 × 2 of type dbl\n\\begin{tabular}{ll}\n\t 230 & 270\\\\\n\t 240 & 340\\\\\n\t 360 & 230\\\\\n\t 450 & 120\\\\\n\t 230 & 240\\\\\n\\end{tabular}\n",
            "text/plain": [
              "     [,1] [,2]\n",
              "[1,] 230  270 \n",
              "[2,] 240  340 \n",
              "[3,] 360  230 \n",
              "[4,] 450  120 \n",
              "[5,] 230  240 "
            ]
          },
          "metadata": {}
        },
        {
          "output_type": "display_data",
          "data": {
            "text/html": [
              "<ol>\n",
              "\t<li><style>\n",
              ".list-inline {list-style: none; margin:0; padding: 0}\n",
              ".list-inline>li {display: inline-block}\n",
              ".list-inline>li:not(:last-child)::after {content: \"\\00b7\"; padding: 0 .5ex}\n",
              "</style>\n",
              "<ol class=list-inline><li>230</li><li>240</li><li>360</li><li>450</li><li>230</li></ol>\n",
              "</li>\n",
              "\t<li><style>\n",
              ".list-inline {list-style: none; margin:0; padding: 0}\n",
              ".list-inline>li {display: inline-block}\n",
              ".list-inline>li:not(:last-child)::after {content: \"\\00b7\"; padding: 0 .5ex}\n",
              "</style>\n",
              "<ol class=list-inline><li>270</li><li>340</li><li>230</li><li>120</li><li>240</li></ol>\n",
              "</li>\n",
              "</ol>\n"
            ],
            "text/markdown": "1. 1. 230\n2. 240\n3. 360\n4. 450\n5. 230\n\n\n\n2. 1. 270\n2. 340\n3. 230\n4. 120\n5. 240\n\n\n\n\n\n",
            "text/latex": "\\begin{enumerate}\n\\item \\begin{enumerate*}\n\\item 230\n\\item 240\n\\item 360\n\\item 450\n\\item 230\n\\end{enumerate*}\n\n\\item \\begin{enumerate*}\n\\item 270\n\\item 340\n\\item 230\n\\item 120\n\\item 240\n\\end{enumerate*}\n\n\\end{enumerate}\n",
            "text/plain": [
              "[[1]]\n",
              "[1] 230 240 360 450 230\n",
              "\n",
              "[[2]]\n",
              "[1] 270 340 230 120 240\n"
            ]
          },
          "metadata": {}
        }
      ]
    },
    {
      "cell_type": "markdown",
      "source": [
        "## vapply"
      ],
      "metadata": {
        "id": "jgGqXHFRS3Lv"
      }
    },
    {
      "cell_type": "code",
      "source": [
        ""
      ],
      "metadata": {
        "id": "61-F1Hx4fJfc"
      },
      "execution_count": null,
      "outputs": []
    }
  ]
}